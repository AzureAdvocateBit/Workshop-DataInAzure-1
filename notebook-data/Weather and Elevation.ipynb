{
  "cells": [
    {
      "source": [
        "# Introduction to Data in Azure \n",
        "\n",
        "This notebook uses weather data from NOAA to explore how elevation affects weather conditions.\n",
        "\n",
        "\n",
        "[Be sure to follow the instructions in the repository](https://github.com/paladique/Workshop-DataInAzure/blob/master/README.md) before continuing here\n"
      ],
      "cell_type": "markdown",
      "metadata": {}
    },
    {
      "source": [
        "## Querying from the Database\n",
        "\n",
        "Now that the data is in Azure SQL, lets query it. Be sure to add and update `myconfig.cfg` with the following:\n",
        "\n",
        "  ```python\n",
        "[my_db]\n",
        "server: [your Azure SQL server name]\n",
        "database: [your Azure SQL database name]\n",
        "username: [your Azure SQL username]\n",
        "password: [your Azure SQL password]\n",
        "  ```\n",
        "  \n",
        "  **Note: The file will contain critical information. Avoid setting your notebook public until they are removed.**"
      ],
      "cell_type": "markdown",
      "metadata": {}
    },
    {
      "source": [
        "What's Happening?! Using Azure Data Factory\n",
        "Looks like this data has some parsing and formatting issues! Let's clean it up - we'll grab the JSON version of this file and put it in Azure SQL\n",
        "\n",
        "Here's a preview of the structure:\n",
        "\n",
        "{\n",
        "  \"id\": 338995,\n",
        "  \"updated\": \"2020-01-21\",\n",
        "  \"confirmed\": 262,\n",
        "  \"deaths\": 0,\n",
        "  \"country_region\": \"Worldwide\",\n",
        "  \"load_time\": \"2020-06-16 00:05:27\"\n",
        "}\n",
        "How do we convert this semi-structed data into relational data? Let's use the Azure Data Factory to achieve this.\n",
        "\n",
        "From the Azure Portal, Open you Data Factory and select Author and Monitor, which will open a new tab.\n",
        "In the Data Factory home page, select Copy Data to setup the manual task\n",
        "After clicking Next on Properties, let's create our data connections.\n",
        "\n",
        "3a. Select + Create New Connection\n",
        "\n",
        "3b. Search for Blob Storage, select Azure Blob Storage > Next\n",
        "\n",
        "3c. Select your Azure Subscirption and your Storage Account Name, select Create\n",
        "\n",
        "3d. Repeat this process for Azure SQL Database and use SQL authentication\n",
        "\n",
        "Optional: Test your connection\n",
        "\n",
        "Select Azure Blob Storage connection as the source > Next\n",
        "\n",
        "Select Browse on the right hand side, select your container and click Choose on bing_covid-19_data.json > Next\n",
        "Confirm the file format is json, select it if not and click Next\n",
        "Select Azure SQL connection as the destination target > Next\n",
        "Select the CovidData databsase as the destination target > Next\n",
        "We're only interested in the id, updated, and confirmed columns, deleting the other rows is optional > click Next until you reach the Deployment complete window\n",
        "Loading this data will take a few minutes.\n",
        "To much clicking?\n",
        "You can build data piplines in Data Factory with the command line"
      ],
      "cell_type": "markdown",
      "metadata": {}
    },
    {
      "cell_type": "code",
      "source": [
        "# Pip install packages\n",
        "import os, sys\n",
        "\n",
        "!{sys.executable} -m pip install azure-storage-blob\n",
        "!{sys.executable} -m pip install pyarrow\n",
        "!{sys.executable} -m pip install pandas"
      ],
      "metadata": {
        "scrolled": false,
        "tags": []
      },
      "outputs": [
        {
          "output_type": "stream",
          "name": "stdout",
          "text": "Requirement already satisfied: azure-storage-blob in c:\\users\\jasmineg\\appdata\\local\\programs\\python\\python38\\lib\\site-packages (12.5.0)\nRequirement already satisfied: msrest>=0.6.10 in c:\\users\\jasmineg\\appdata\\local\\programs\\python\\python38\\lib\\site-packages (from azure-storage-blob) (0.6.19)\nRequirement already satisfied: cryptography>=2.1.4 in c:\\users\\jasmineg\\appdata\\local\\programs\\python\\python38\\lib\\site-packages (from azure-storage-blob) (3.1)\nRequirement already satisfied: azure-core<2.0.0,>=1.6.0 in c:\\users\\jasmineg\\appdata\\local\\programs\\python\\python38\\lib\\site-packages (from azure-storage-blob) (1.8.1)\nRequirement already satisfied: requests-oauthlib>=0.5.0 in c:\\users\\jasmineg\\appdata\\local\\programs\\python\\python38\\lib\\site-packages (from msrest>=0.6.10->azure-storage-blob) (1.3.0)\nRequirement already satisfied: certifi>=2017.4.17 in c:\\users\\jasmineg\\appdata\\local\\programs\\python\\python38\\lib\\site-packages (from msrest>=0.6.10->azure-storage-blob) (2020.6.20)\nRequirement already satisfied: isodate>=0.6.0 in c:\\users\\jasmineg\\appdata\\local\\programs\\python\\python38\\lib\\site-packages (from msrest>=0.6.10->azure-storage-blob) (0.6.0)\nRequirement already satisfied: requests~=2.16 in c:\\users\\jasmineg\\appdata\\local\\programs\\python\\python38\\lib\\site-packages (from msrest>=0.6.10->azure-storage-blob) (2.24.0)\nRequirement already satisfied: six>=1.4.1 in c:\\users\\jasmineg\\appdata\\roaming\\python\\python38\\site-packages (from cryptography>=2.1.4->azure-storage-blob) (1.15.0)\nRequirement already satisfied: cffi!=1.11.3,>=1.8 in c:\\users\\jasmineg\\appdata\\local\\programs\\python\\python38\\lib\\site-packages (from cryptography>=2.1.4->azure-storage-blob) (1.14.2)\nRequirement already satisfied: oauthlib>=3.0.0 in c:\\users\\jasmineg\\appdata\\local\\programs\\python\\python38\\lib\\site-packages (from requests-oauthlib>=0.5.0->msrest>=0.6.10->azure-storage-blob) (3.1.0)\nRequirement already satisfied: urllib3!=1.25.0,!=1.25.1,<1.26,>=1.21.1 in c:\\users\\jasmineg\\appdata\\local\\programs\\python\\python38\\lib\\site-packages (from requests~=2.16->msrest>=0.6.10->azure-storage-blob) (1.25.10)\nRequirement already satisfied: chardet<4,>=3.0.2 in c:\\users\\jasmineg\\appdata\\local\\programs\\python\\python38\\lib\\site-packages (from requests~=2.16->msrest>=0.6.10->azure-storage-blob) (3.0.4)\nRequirement already satisfied: idna<3,>=2.5 in c:\\users\\jasmineg\\appdata\\local\\programs\\python\\python38\\lib\\site-packages (from requests~=2.16->msrest>=0.6.10->azure-storage-blob) (2.10)\nRequirement already satisfied: pycparser in c:\\users\\jasmineg\\appdata\\local\\programs\\python\\python38\\lib\\site-packages (from cffi!=1.11.3,>=1.8->cryptography>=2.1.4->azure-storage-blob) (2.20)\nRequirement already satisfied: pyarrow in c:\\users\\jasmineg\\appdata\\local\\programs\\python\\python38\\lib\\site-packages (1.0.1)\nRequirement already satisfied: numpy>=1.14 in c:\\users\\jasmineg\\appdata\\local\\programs\\python\\python38\\lib\\site-packages (from pyarrow) (1.19.2)\nRequirement already satisfied: pandas in c:\\users\\jasmineg\\appdata\\local\\programs\\python\\python38\\lib\\site-packages (1.1.2)\nRequirement already satisfied: python-dateutil>=2.7.3 in c:\\users\\jasmineg\\appdata\\roaming\\python\\python38\\site-packages (from pandas) (2.8.1)\nRequirement already satisfied: numpy>=1.15.4 in c:\\users\\jasmineg\\appdata\\local\\programs\\python\\python38\\lib\\site-packages (from pandas) (1.19.2)\nRequirement already satisfied: pytz>=2017.2 in c:\\users\\jasmineg\\appdata\\local\\programs\\python\\python38\\lib\\site-packages (from pandas) (2020.1)\nRequirement already satisfied: six>=1.5 in c:\\users\\jasmineg\\appdata\\roaming\\python\\python38\\site-packages (from python-dateutil>=2.7.3->pandas) (1.15.0)\n"
        }
      ],
      "execution_count": 10
    },
    {
      "cell_type": "code",
      "execution_count": null,
      "metadata": {},
      "outputs": [],
      "source": [
        "Let's grab the COVID data from the Open Datasets Catalog Be sure to download the json file and upload it to your blob container if you haven't already!"
      ]
    },
    {
      "cell_type": "code",
      "source": [
        "# Azure storage access info\nazure_storage_account_name = \"azureopendatastorage\"\nazure_storage_sas_token = r\"\"\ncontainer_name = \"isdweatherdatacontainer\"\nfolder_name = \"ISDWeather/\""
      ],
      "metadata": {},
      "outputs": [],
      "execution_count": 12
    },
    {
      "cell_type": "code",
      "source": [
        "from azure.storage.blob import BlobServiceClient, BlobClient, ContainerClient\n",
        "\n",
        "if azure_storage_account_name is None or azure_storage_sas_token is None:\n",
        "    raise Exception(\n",
        "        \"Provide your specific name and key for your Azure Storage account--see the Prerequisites section earlier.\")\n",
        "\n",
        "print('Looking for the first parquet under the folder ' +\n",
        "      folder_name + ' in container \"' + container_name + '\"...')\n",
        "container_url = f\"https://{azure_storage_account_name}.blob.core.windows.net/\"\n",
        "blob_service_client = BlobServiceClient(\n",
        "    container_url, azure_storage_sas_token if azure_storage_sas_token else None)\n",
        "\n",
        "container_client = blob_service_client.get_container_client(container_name)\n",
        "blobs = container_client.list_blobs(folder_name)\n",
        "sorted_blobs = sorted(list(blobs), key=lambda e: e.name, reverse=True)\n",
        "targetBlobName = ''\n",
        "for blob in sorted_blobs:\n",
        "    if blob.name.startswith(folder_name) and blob.name.endswith('.parquet'):\n",
        "        targetBlobName = blob.name\n",
        "        break\n",
        "\n",
        "print('Target blob to download: ' + targetBlobName)\n",
        "_, filename = os.path.split(targetBlobName)\n",
        "blob_client = container_client.get_blob_client(targetBlobName)\n",
        "with open(filename, 'wb') as local_file:\n",
        "    blob_client.download_blob().download_to_stream(local_file)"
      ],
      "metadata": {
        "scrolled": true,
        "tags": []
      },
      "outputs": [
        {
          "output_type": "stream",
          "name": "stdout",
          "text": "Looking for the first parquet under the folder ISDWeather/ in container \"isdweatherdatacontainer\"...\nTarget blob to download: ISDWeather/year=2020/month=9/part-00007-tid-8228874701277795085-7b8726ea-d43e-4602-80de-455ce4f066a5-2406-9.c000.snappy.parquet\n"
        }
      ],
      "execution_count": 14
    },
    {
      "cell_type": "code",
      "source": [
        "# Read the parquet file into Pandas data frame\n",
        "import pandas as pd\n",
        "\n",
        "print('Reading the parquet file into Pandas data frame')\n",
        "df = pd.read_parquet(filename, columns=['datetime', 'latitude', 'longitude', 'elevation', 'stationName', 'temperature', 'windSpeed'])"
      ],
      "metadata": {
        "tags": []
      },
      "outputs": [
        {
          "output_type": "stream",
          "name": "stdout",
          "text": "Reading the parquet file into Pandas data frame\n"
        }
      ],
      "execution_count": 19
    },
    {
      "cell_type": "code",
      "source": [
        "# you can add your filter at below\n",
        "print('Loaded as a Pandas data frame: ')\n",
        "# df\n",
        "\n",
        "df.query('(38.503 <= latitude <= 39.887) & (-108.294 <= longitude <= -105.943)' )\n",
        "df.query('(39.375.503 <= latitude <= 39.887) & (-108.294 <= longitude <= -105.943)' )\n",
        "\n"
      ],
      "metadata": {
        "tags": []
      },
      "outputs": [
        {
          "output_type": "stream",
          "name": "stdout",
          "text": "Loaded as a Pandas data frame: \n"
        },
        {
          "output_type": "execute_result",
          "data": {
            "text/plain": "                  datetime  latitude  longitude  elevation  \\\n40695  2020-09-07 02:55:00    38.698   -106.070     2422.0   \n40724  2020-09-05 11:35:00    38.698   -106.070     2422.0   \n40766  2020-09-03 12:55:00    38.698   -106.070     2422.0   \n40767  2020-09-05 01:55:00    38.698   -106.070     2422.0   \n40774  2020-09-01 22:15:00    38.698   -106.070     2422.0   \n...                    ...       ...        ...        ...   \n515734 2020-09-11 04:31:00    39.433   -107.383     3232.0   \n515742 2020-09-13 07:29:00    39.433   -107.383     3232.0   \n515754 2020-09-05 14:12:00    39.433   -107.383     3232.0   \n515790 2020-09-03 03:52:00    39.433   -107.383     3232.0   \n515809 2020-09-01 18:12:00    39.433   -107.383     3232.0   \n\n                         stationName  temperature  windSpeed  \n40695   CENTRAL COLORADO REGIONAL AP         19.1        4.6  \n40724   CENTRAL COLORADO REGIONAL AP         11.1        3.1  \n40766   CENTRAL COLORADO REGIONAL AP          9.2        3.1  \n40767   CENTRAL COLORADO REGIONAL AP         23.7        4.1  \n40774   CENTRAL COLORADO REGIONAL AP         23.0        9.8  \n...                              ...          ...        ...  \n515734                      SUNLIGHT         -1.0        1.5  \n515742                      SUNLIGHT          7.0        0.0  \n515754                      SUNLIGHT         15.0        2.1  \n515790                      SUNLIGHT         12.0        1.5  \n515809                      SUNLIGHT          6.0        0.0  \n\n[1433 rows x 7 columns]",
            "text/html": "<div>\n<style scoped>\n    .dataframe tbody tr th:only-of-type {\n        vertical-align: middle;\n    }\n\n    .dataframe tbody tr th {\n        vertical-align: top;\n    }\n\n    .dataframe thead th {\n        text-align: right;\n    }\n</style>\n<table border=\"1\" class=\"dataframe\">\n  <thead>\n    <tr style=\"text-align: right;\">\n      <th></th>\n      <th>datetime</th>\n      <th>latitude</th>\n      <th>longitude</th>\n      <th>elevation</th>\n      <th>stationName</th>\n      <th>temperature</th>\n      <th>windSpeed</th>\n    </tr>\n  </thead>\n  <tbody>\n    <tr>\n      <th>40695</th>\n      <td>2020-09-07 02:55:00</td>\n      <td>38.698</td>\n      <td>-106.070</td>\n      <td>2422.0</td>\n      <td>CENTRAL COLORADO REGIONAL AP</td>\n      <td>19.1</td>\n      <td>4.6</td>\n    </tr>\n    <tr>\n      <th>40724</th>\n      <td>2020-09-05 11:35:00</td>\n      <td>38.698</td>\n      <td>-106.070</td>\n      <td>2422.0</td>\n      <td>CENTRAL COLORADO REGIONAL AP</td>\n      <td>11.1</td>\n      <td>3.1</td>\n    </tr>\n    <tr>\n      <th>40766</th>\n      <td>2020-09-03 12:55:00</td>\n      <td>38.698</td>\n      <td>-106.070</td>\n      <td>2422.0</td>\n      <td>CENTRAL COLORADO REGIONAL AP</td>\n      <td>9.2</td>\n      <td>3.1</td>\n    </tr>\n    <tr>\n      <th>40767</th>\n      <td>2020-09-05 01:55:00</td>\n      <td>38.698</td>\n      <td>-106.070</td>\n      <td>2422.0</td>\n      <td>CENTRAL COLORADO REGIONAL AP</td>\n      <td>23.7</td>\n      <td>4.1</td>\n    </tr>\n    <tr>\n      <th>40774</th>\n      <td>2020-09-01 22:15:00</td>\n      <td>38.698</td>\n      <td>-106.070</td>\n      <td>2422.0</td>\n      <td>CENTRAL COLORADO REGIONAL AP</td>\n      <td>23.0</td>\n      <td>9.8</td>\n    </tr>\n    <tr>\n      <th>...</th>\n      <td>...</td>\n      <td>...</td>\n      <td>...</td>\n      <td>...</td>\n      <td>...</td>\n      <td>...</td>\n      <td>...</td>\n    </tr>\n    <tr>\n      <th>515734</th>\n      <td>2020-09-11 04:31:00</td>\n      <td>39.433</td>\n      <td>-107.383</td>\n      <td>3232.0</td>\n      <td>SUNLIGHT</td>\n      <td>-1.0</td>\n      <td>1.5</td>\n    </tr>\n    <tr>\n      <th>515742</th>\n      <td>2020-09-13 07:29:00</td>\n      <td>39.433</td>\n      <td>-107.383</td>\n      <td>3232.0</td>\n      <td>SUNLIGHT</td>\n      <td>7.0</td>\n      <td>0.0</td>\n    </tr>\n    <tr>\n      <th>515754</th>\n      <td>2020-09-05 14:12:00</td>\n      <td>39.433</td>\n      <td>-107.383</td>\n      <td>3232.0</td>\n      <td>SUNLIGHT</td>\n      <td>15.0</td>\n      <td>2.1</td>\n    </tr>\n    <tr>\n      <th>515790</th>\n      <td>2020-09-03 03:52:00</td>\n      <td>39.433</td>\n      <td>-107.383</td>\n      <td>3232.0</td>\n      <td>SUNLIGHT</td>\n      <td>12.0</td>\n      <td>1.5</td>\n    </tr>\n    <tr>\n      <th>515809</th>\n      <td>2020-09-01 18:12:00</td>\n      <td>39.433</td>\n      <td>-107.383</td>\n      <td>3232.0</td>\n      <td>SUNLIGHT</td>\n      <td>6.0</td>\n      <td>0.0</td>\n    </tr>\n  </tbody>\n</table>\n<p>1433 rows × 7 columns</p>\n</div>"
          },
          "metadata": {},
          "execution_count": 45
        }
      ],
      "execution_count": 45
    },
    {
      "cell_type": "code",
      "source": [
        ""
      ],
      "metadata": {},
      "outputs": [],
      "execution_count": 6
    },
    {
      "cell_type": "code",
      "execution_count": null,
      "metadata": {},
      "outputs": [],
      "source": []
    }
  ],
  "metadata": {
    "kernelspec": {
      "display_name": "Python 3.8.5 64-bit",
      "language": "python",
      "name": "python_defaultSpec_1600197549285"
    },
    "language_info": {
      "mimetype": "text/x-python",
      "name": "python",
      "pygments_lexer": "ipython3",
      "codemirror_mode": {
        "name": "ipython",
        "version": 3
      },
      "version": "3.8.5-final",
      "nbconvert_exporter": "python",
      "file_extension": ".py"
    },
    "name": "LoadAzureBlobParquet",
    "notebookId": 576599826755691
  },
  "nbformat": 4,
  "nbformat_minor": 0
}